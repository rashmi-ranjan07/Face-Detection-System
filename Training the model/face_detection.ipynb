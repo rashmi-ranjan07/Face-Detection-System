{
  "nbformat": 4,
  "nbformat_minor": 0,
  "metadata": {
    "colab": {
      "provenance": []
    },
    "kernelspec": {
      "name": "python3",
      "display_name": "Python 3"
    },
    "language_info": {
      "name": "python"
    }
  },
  "cells": [
    {
      "cell_type": "code",
      "execution_count": null,
      "metadata": {
        "id": "fiDoAi0_imcC"
      },
      "outputs": [],
      "source": [
        "#Unpickling the files\n",
        "import pickle\n",
        "with open('/content/images.p','rb') as f:\n",
        "  images = pickle.load(f)\n",
        "with open('/content/labels.p','rb') as f:\n",
        "  labels = pickle.load(f)"
      ]
    },
    {
      "cell_type": "code",
      "source": [
        "print(images.shape)\n",
        "print(labels.shape)"
      ],
      "metadata": {
        "id": "RK77zC-ZkFof"
      },
      "execution_count": null,
      "outputs": []
    },
    {
      "cell_type": "code",
      "source": [
        "set(labels)"
      ],
      "metadata": {
        "id": "t4I-WFmAkNTn"
      },
      "execution_count": null,
      "outputs": []
    },
    {
      "cell_type": "code",
      "source": [
        "from sklearn.preprocessing import LabelEncoder\n",
        "le=LabelEncoder()\n",
        "labels=le.fit_transform(labels)"
      ],
      "metadata": {
        "id": "zFawogLolNi1"
      },
      "execution_count": null,
      "outputs": []
    },
    {
      "cell_type": "code",
      "source": [
        "set(labels)"
      ],
      "metadata": {
        "id": "U3NuYdR0mD1-"
      },
      "execution_count": null,
      "outputs": []
    },
    {
      "cell_type": "code",
      "source": [
        "import numpy as np\n",
        "a=len(set(labels))\n",
        "print('Number of Persons:',a)\n",
        "\n",
        "b=le.inverse_transform(np.arange(a))\n",
        "for i in range(len(b)):\n",
        "  print(i,'-->',b[i])"
      ],
      "metadata": {
        "id": "gbvQMK87mG_z"
      },
      "execution_count": null,
      "outputs": []
    },
    {
      "cell_type": "code",
      "source": [
        "import matplotlib.pyplot as plt\n",
        "plt.imshow(images[50],cmap='gray')\n",
        "plt.show()"
      ],
      "metadata": {
        "id": "b_GWE7eAmvvd"
      },
      "execution_count": null,
      "outputs": []
    },
    {
      "cell_type": "code",
      "source": [
        "import cv2"
      ],
      "metadata": {
        "id": "P3JHyF49nmkW"
      },
      "execution_count": null,
      "outputs": []
    },
    {
      "cell_type": "code",
      "source": [
        "def preprocessing(img):\n",
        "  img=cv2.equalizeHist(img)\n",
        "  img=img.reshape(100,100,1)\n",
        "  img=img/255\n",
        "  return img"
      ],
      "metadata": {
        "id": "PQsx03ednu2X"
      },
      "execution_count": null,
      "outputs": []
    },
    {
      "cell_type": "code",
      "source": [
        "images=np.array(list(map(preprocessing,images)))\n",
        "print('Shape of input :',images.shape)"
      ],
      "metadata": {
        "id": "w91cktl0nxyi"
      },
      "execution_count": null,
      "outputs": []
    },
    {
      "cell_type": "code",
      "source": [
        "from keras.utils import to_categorical\n",
        "labels=to_categorical(labels)\n",
        "print('Shape of output :',labels.shape)"
      ],
      "metadata": {
        "id": "Cuyper5aoE2U"
      },
      "execution_count": null,
      "outputs": []
    },
    {
      "cell_type": "code",
      "source": [
        "from keras.models import Sequential\n",
        "from keras.layers import Dense\n",
        "from keras.optimizers import Adam\n",
        "\n",
        "from keras.layers import Conv2D\n",
        "from keras.layers import MaxPooling2D\n",
        "from keras.layers import Flatten"
      ],
      "metadata": {
        "id": "Ra-aktRyoxra"
      },
      "execution_count": null,
      "outputs": []
    },
    {
      "cell_type": "code",
      "source": [
        "def lenet_model():\n",
        "  model=Sequential()\n",
        "  #Convolutional Layer and Relu layer\n",
        "  model.add(Conv2D(30,(5,5),activation='relu',input_shape=(100,100,1)))\n",
        "  #Pooling layer\n",
        "  model.add(MaxPooling2D(pool_size=(2,2)))\n",
        "\n",
        "  #Convolutional Layer and Relu layer\n",
        "  model.add(Conv2D(15,(3,3),activation='relu'))\n",
        "  #Pooling layer\n",
        "  model.add(MaxPooling2D(pool_size=(2,2)))\n",
        "\n",
        "  #Flatten layer\n",
        "  model.add(Flatten())\n",
        "\n",
        "  #Fully connected layer or hidden layers\n",
        "  model.add(Dense(200,activation='relu'))\n",
        "  model.add(Dense(100,activation='relu'))\n",
        "\n",
        "  #output layer\n",
        "  model.add(Dense(7,activation='softmax'))\n",
        "  model.compile(Adam(learning_rate=0.01),loss='categorical_crossentropy',metrics=['accuracy'])\n",
        "  return model"
      ],
      "metadata": {
        "id": "xbhajNZVp7F5"
      },
      "execution_count": null,
      "outputs": []
    },
    {
      "cell_type": "code",
      "source": [
        "model=lenet_model()\n",
        "model.summary()"
      ],
      "metadata": {
        "id": "pYvMn55aqJus"
      },
      "execution_count": null,
      "outputs": []
    },
    {
      "cell_type": "code",
      "source": [
        "model.fit(images,labels,validation_split=0.1,epochs=10)"
      ],
      "metadata": {
        "id": "mtLdYFbcs1fM"
      },
      "execution_count": null,
      "outputs": []
    },
    {
      "cell_type": "code",
      "source": [
        "model.save('final_model.h5')"
      ],
      "metadata": {
        "id": "-TK84afDtmD-"
      },
      "execution_count": null,
      "outputs": []
    },
    {
      "cell_type": "code",
      "source": [],
      "metadata": {
        "id": "NxmECuKqvXUA"
      },
      "execution_count": null,
      "outputs": []
    }
  ]
}